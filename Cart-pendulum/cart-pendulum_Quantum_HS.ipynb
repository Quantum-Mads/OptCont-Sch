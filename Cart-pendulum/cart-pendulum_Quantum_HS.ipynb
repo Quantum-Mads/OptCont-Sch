{
 "cells": [
  {
   "cell_type": "code",
   "execution_count": 1,
   "id": "c4f4c632",
   "metadata": {},
   "outputs": [],
   "source": [
    "import numpy as np\n",
    "from numpy.linalg import solve\n",
    "from scipy.linalg import expm\n",
    "from scipy import linalg as la\n",
    "from scipy.integrate import solve_ivp\n",
    "import matplotlib.pyplot as plt"
   ]
  },
  {
   "cell_type": "code",
   "execution_count": null,
   "id": "679ab5a3",
   "metadata": {},
   "outputs": [],
   "source": [
    "# ------------------ Data ------------------\n",
    "m = 1.0\n",
    "M = 5.0\n",
    "L = 2.0\n",
    "g = -10.0\n",
    "delta = 1.0\n",
    "\n",
    "A = np.array([[0,    1,   0,  0],\n",
    "              [0, -delta/M,  m*g/M,  0],                     # -0.2, -2.0\n",
    "              [0,    0,   0,  1],\n",
    "              [0, -delta/(M*L), -(M+m)*g/(M*L),  0]], float) # -0.1, +6.0\n",
    "print(A)\n",
    "\n",
    "B = np.array([[0.0],\n",
    "              [1/M],          # 0.2\n",
    "              [0.0],\n",
    "              [1/(M*L)]], float)  # 0.1\n",
    "\n",
    "Q = np.eye(4)\n",
    "R = np.array([[1e-2]])  # 0.01\n",
    "H = np.diag([0.0, 10, 50.0, 10.0])\n",
    "\n",
    "x_ref = np.array([1.0, 0.0, np.pi, 0.0])\n",
    "x0    = np.array([-1.0, 0.0, np.pi+0.1, 0.0])\n",
    "e0    = x0 - x_ref  # initial error\n",
    "\n",
    "\n",
    "T  = 10.0\n",
    "dt = 0.001\n",
    "N  = int(T/dt) + 1\n",
    "t_eval = np.linspace(0.0, T, N)"
   ]
  }
 ],
 "metadata": {
  "kernelspec": {
   "display_name": "Python 3",
   "language": "python",
   "name": "python3"
  },
  "language_info": {
   "codemirror_mode": {
    "name": "ipython",
    "version": 3
   },
   "file_extension": ".py",
   "mimetype": "text/x-python",
   "name": "python",
   "nbconvert_exporter": "python",
   "pygments_lexer": "ipython3",
   "version": "3.9.10"
  }
 },
 "nbformat": 4,
 "nbformat_minor": 5
}
