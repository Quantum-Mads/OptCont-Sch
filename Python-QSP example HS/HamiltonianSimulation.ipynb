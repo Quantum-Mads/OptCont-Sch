{
 "cells": [
  {
   "cell_type": "markdown",
   "id": "6be4a074",
   "metadata": {},
   "source": [
    "# Quantum Signal Processing for Hamiltonian Simulation\n",
    "\n",
    "The script implements $e^{-i\\tau H}$ using quantum signal processing (QSP) and a simple linear combination of unitaries (LCU) wrapper. \n",
    "\n",
    "The workflow proceeds as follows:\n",
    "\n",
    "1. **Scale the Hamiltonian**: $H_s = H / \\alpha$, with $\\alpha = \\max_i |\\lambda_i(H)|$, so $\\operatorname{spec}(H_s) \\subseteq [-1,1]$.\n",
    "2. **Define Targets**: Build Chebyshev approximants to $0.5\\cos(Tx)$ and $0.5\\sin(Tx)$ on $x\\in[-1,1]$, where $T=\\tau\\alpha$.\n",
    "3. **Synthesize phases**: Use QSP to find phase lists (even for cosine, odd for sine).\n",
    "4. **Block-encoding** (Halmos) and **reflection**: Build a unitary $U_A$ with top-left block $H_s$ and use $U_\\Pi=Z\\otimes I$.\n",
    "5. **QSP products**: Build $U_{\\cos}$ and $U_{\\sin}$ from phase lists.\n",
    "6. **LCU combine**: Interfere controlled $(U_{\\cos},U_{\\sin})$ to get $\\tfrac12(U_{\\cos}-iU_{\\sin})$; project ancillas to obtain $\\tfrac14 e^{-i\\tau H}$.\n",
    "\n"
   ]
  },
  {
   "cell_type": "code",
   "execution_count": 6,
   "id": "21b70a38",
   "metadata": {},
   "outputs": [],
   "source": [
    "# ---------- Imports ----------\n",
    "\n",
    "import numpy as np\n",
    "import os\n",
    "from numpy import kron\n",
    "from numpy.linalg import eigvals, norm\n",
    "from scipy.linalg import expm, sqrtm\n",
    "from scipy.io import loadmat  "
   ]
  },
  {
   "cell_type": "code",
   "execution_count": 7,
   "id": "3fb68b11",
   "metadata": {},
   "outputs": [
    {
     "name": "stdout",
     "output_type": "stream",
     "text": [
      "\n",
      "Loaded phases: len(phi_even) = 79, len(phi_odd) = 80\n",
      "\n",
      "Effective time T = tau * alpha = 50.000000 * 0.742024 = 37.101189\n",
      "\n",
      "Scaled Hamiltonian Hs = H / alpha:\n",
      "[[ 0.54+0.j    0.  +0.j    0.54+0.j    0.  -0.27j]\n",
      " [ 0.  +0.j   -0.54+0.j    0.  -0.27j  0.54+0.j  ]\n",
      " [ 0.54+0.j    0.  +0.27j  0.27+0.j    0.  +0.j  ]\n",
      " [ 0.  +0.27j  0.54+0.j    0.  +0.j   -0.27+0.j  ]]\n",
      "\n",
      "alpha = Spectral radius ||H||_spec ≈ 0.742024\n",
      "\n",
      "max |eig(H)| = 0.742024  (should match alpha)\n",
      "max |eig(Hs)| = 1.000000  (should be ≤ 1)\n"
     ]
    }
   ],
   "source": [
    "# ---------- Load phases and Hamiltonian ----------\n",
    "\n",
    "mat_path = r\"C:\\Users\\CristinaÁlvarezYuste\\qsp_exports\\qsp_phases_tau50.mat\"\n",
    "assert os.path.exists(mat_path), f\"Missing file: {mat_path}\"\n",
    "data = loadmat(mat_path, squeeze_me=True, struct_as_record=False)\n",
    "\n",
    "phi_even = np.asarray(data['phi_even'], dtype=float).ravel() \n",
    "phi_odd  = np.asarray(data['phi_odd'],  dtype=float).ravel()\n",
    "\n",
    "meta = data['meta']\n",
    "print(f\"\\nLoaded phases: len(phi_even) = {len(phi_even)}, len(phi_odd) = {len(phi_odd)}\")\n",
    "\n",
    "H = np.array(data['H'], dtype=complex)\n",
    "tau   = float(meta.tau); \n",
    "alpha = float(meta.alpha); \n",
    "T = float(meta.T)\n",
    "Hs = H / alpha\n",
    "lam_Hs = eigvals(Hs)\n",
    "lam_H = eigvals(H)\n",
    "\n",
    "print(f\"\\nEffective time T = tau * alpha = {tau:.6f} * {alpha:.6f} = {T:.6f}\")\n",
    "print(f\"\\nScaled Hamiltonian Hs = H / alpha:\\n{np.round(Hs, 2)}\")\n",
    "print(f\"\\nalpha = Spectral radius ||H||_spec ≈ {alpha:.6f}\")\n",
    "print(f\"\\nmax |eig(H)| = {np.max(np.abs(lam_H)):.6f}  (should match alpha)\")\n",
    "print(f\"max |eig(Hs)| = {np.max(np.abs(lam_Hs)):.6f}  (should be ≤ 1)\")\n"
   ]
  },
  {
   "cell_type": "markdown",
   "id": "14197e5d",
   "metadata": {},
   "source": [
    "## Quantum Signal Processing Unitary\n",
    "\n",
    "Given a block-encoding $U_A$ of the (scaled) operator and the reflection\n",
    "$U_\\Pi = 2\\Pi - I$, QSP applies an alternating sequence of reflections and signal unitaries parameterized by phases. The $d$-iterate, $(d{+}1)$-phase circuit is:\n",
    "\n",
    "$$\n",
    "U_{\\tilde{\\Phi}}\n",
    "=\\Bigg[\\prod_{i=0}^{d-1}\\Big(e^{\\,i\\tilde{\\phi}_i\\,U_\\Pi}\\; U_\\Pi U_A\\Big)\\Bigg]\\;\n",
    "e^{\\,i\\tilde{\\phi}_d\\,U_\\Pi}\n",
    "$$\n",
    "\n",
    "Here each $\\tilde{\\phi}_i \\in \\mathbb{R}$, and $\\tilde{\\Phi}=(\\tilde{\\phi}_0,\\ldots,\\tilde{\\phi}_d)$ is the phase vector that\n",
    "encodes the target polynomial $f(x)$.\n"
   ]
  },
  {
   "cell_type": "code",
   "execution_count": 8,
   "id": "b22aead2",
   "metadata": {},
   "outputs": [],
   "source": [
    "# ---------- Functions ----------\n",
    "def qsp_unitary(UA: np.ndarray, UPi: np.ndarray, phi: np.ndarray) -> np.ndarray:\n",
    "    \"\"\"\n",
    "    U_{~Phi} = [∏_{i=0}^{d-1} (e^{i phi_i UPi} UPi UA)] e^{i phi_d UPi}\n",
    "    \"\"\"\n",
    "    d = len(phi) - 1\n",
    "    U = np.eye(UA.shape[0], dtype=complex)\n",
    "    for i in range(d):                           # i = 0,1,...,d-1\n",
    "        U = U @ (expm(1j*phi[i]*UPi) @ (UPi @ UA))\n",
    "    U = U @ expm(1j*phi[d]*UPi)                  # final factor on the right\n",
    "    return U"
   ]
  },
  {
   "cell_type": "markdown",
   "id": "22817171",
   "metadata": {},
   "source": [
    "## Preparing the BE of $H_s$ ($U_A$) and Reflection ($U_\\Pi$)\n",
    "\n",
    "$H_s$ must be embeded inside a unitary so QSP can act on it, this time only for numerical validation, the Halmos BE is used to construct $U_A$:\n",
    "$$\n",
    "U_A = \\begin{bmatrix} H_s & \\sqrt{I - H_s^2} \\\\ \\sqrt{I - H_s^2} & -H_s\\end{bmatrix},\n",
    "\\qquad\n",
    "U_\\Pi = Z\\otimes I,\n",
    "$$\n",
    "such that\n",
    "$$\n",
    "(\\langle 0 \\rvert \\otimes I) \\, U_A \\, (\\lvert 0 \\rangle \\otimes I) = H_s\n",
    "$$\n",
    "\n",
    "The operator $U_\\Pi$ is the reflection about the ancilla-$\\ket{0}$ subspace:\n",
    "\n",
    "$$\n",
    "U_\\Pi = 2 \\Pi - I, \\quad\n",
    "\\Pi = \\ket{0}\\bra{0} \\otimes I\n",
    "\\quad \\Rightarrow \\quad\n",
    "U_\\Pi = Z_\\text{anc} \\otimes I = \\text{diag}(1,-1) \\otimes I.\n",
    "$$\n",
    "\n",
    "In circuits, $e^{i \\phi U_\\Pi}$ is just a $Z$-rotation on the ancilla (up to a global phase).\n",
    "\n",
    "\n",
    "\n",
    "**Register structure:** Moving from $H_s$ to $U_A$ introduces one ancilla qubit $a$. The total Hilbert space is now $a \\otimes \\text{system}$ with dimension $2 \\times n = 2n$.\n",
    "\n",
    "**Well-posedness:** The matrix square root $\\sqrt{I - H_s^2}$ is well-defined and positive semidefinite when $H_s$ is Hermitian with $\\|H_s\\| \\le 1$ (which holds after spectral scaling)."
   ]
  },
  {
   "cell_type": "code",
   "execution_count": 9,
   "id": "0777c10c",
   "metadata": {},
   "outputs": [
    {
     "name": "stdout",
     "output_type": "stream",
     "text": [
      "||UA^*UA - I|| = 9.787475296204779e-08\n",
      "\n",
      "The system Hamiltonian Hs has dimension: (4, 4)\n",
      "The system Hamiltonian Hs is block-encoded in UA with dimension: (8, 8)\n"
     ]
    }
   ],
   "source": [
    "# ---------- Block-encoding (Halmos only for testing) + reflection ----------\n",
    "n  = Hs.shape[0]\n",
    "Rt = sqrtm(np.eye(n) - Hs @ Hs)                         # Off diagonal block is PSD because ||Hs|| ≤ 1\n",
    "UA = np.block([[Hs, Rt], [Rt, -Hs]])                    # Simple Halmos dilation (2n x 2n)\n",
    "UPi = kron(np.diag([1, -1]).astype(complex), np.eye(n, dtype=complex))  # Z on ancilla a\n",
    "\n",
    "print(\"||UA^*UA - I|| =\", norm(UA.conj().T @ UA - np.eye(2*n))) # should be ≈ 0 (numerically unitary)\n",
    "print(\"\\nThe system Hamiltonian Hs has dimension:\", Hs.shape)\n",
    "print( \"The system Hamiltonian Hs is block-encoded in UA with dimension:\", UA.shape)"
   ]
  },
  {
   "cell_type": "markdown",
   "id": "d4727ee7",
   "metadata": {},
   "source": [
    "## QSP product formula and implementation\n",
    "With phase list $\\tilde{\\Phi}=(\\tilde{\\phi}_0,\\ldots,\\tilde{\\phi}_d)$, we implement\n",
    "$$\n",
    "U_{\\tilde{\\Phi}}\n",
    "=\\Bigg[\\prod_{i=0}^{d-1}\\Big(e^{\\,i\\tilde{\\phi}_i\\,U_\\Pi}\\; U_\\Pi U_A\\Big)\\Bigg]\\;\n",
    "e^{\\,i\\tilde{\\phi}_d\\,U_\\Pi}.\n",
    "$$\n",
    "We build $U_{\\cos}=U_{\\tilde{\\Phi}_{\\cos}}$ and $U_{\\sin}=U_{\\tilde{\\Phi}_{\\sin}}$.\n"
   ]
  },
  {
   "cell_type": "code",
   "execution_count": 10,
   "id": "a5811e36",
   "metadata": {},
   "outputs": [
    {
     "name": "stdout",
     "output_type": "stream",
     "text": [
      "QSP unitaries:\n",
      "Ucos  shape = (8, 8),  ||Ucos|| = 1.000002\n",
      "Usin  shape = (8, 8),  ||Usin|| = 1.000002\n"
     ]
    }
   ],
   "source": [
    "# ---------- QSP unitaries ----------\n",
    "# These two QSP products implement polynomials of the eigenvalues x \\in [-1,1] of Hs:\n",
    "\n",
    "Ucos = qsp_unitary(UA, UPi, phi_even)   # 1/2 cos(T*x) --> <0|Ucos|0> = 1/2 cos(T*Hs)\n",
    "Usin = qsp_unitary(UA, UPi, phi_odd)    # 1/2 sin(T*x) --> <0|Usin|0> = 1/2 sin(T*Hs)\n",
    "\n",
    "print(\"QSP unitaries:\")\n",
    "print(f\"Ucos  shape = {Ucos.shape},  ||Ucos|| = {norm(Ucos, 2):.6f}\")\n",
    "print(f\"Usin  shape = {Usin.shape},  ||Usin|| = {norm(Usin, 2):.6f}\")"
   ]
  },
  {
   "cell_type": "markdown",
   "id": "a09a1444",
   "metadata": {},
   "source": [
    "## LCU combination with a second ancilla $c$\n",
    "\n",
    "We already have two QSP unitaries that act on **(ancilla a ⊗ system)** of size $2n\\times 2n$:\n",
    "- $U_{\\cos}$ implements $\\langle a{=}0|\\,U_{\\cos}\\,|a{=}0\\rangle \\approx \\tfrac12 \\cos(T H_s)$\n",
    "- $U_{\\sin}$ implements $\\langle a{=}0|\\,U_{\\sin}\\,|a{=}0\\rangle \\approx \\tfrac12 \\sin(T H_s)$\n",
    "\n",
    "To **linearly combine** these into $ \\tfrac12\\big(U_{\\cos} - i\\,U_{\\sin}\\big) $, we introduce a *second* one-qubit ancilla $c$ (the “control” register). The total space is now:\n",
    "$$\n",
    "\\text{control }c\\ (2)\\ \\otimes\\ \\big(\\text{ancilla }a\\ (2)\\ \\otimes\\ \\text{system }(n)\\big)\n",
    "\\quad\\Rightarrow\\quad 4n \\times 4n.\n",
    "$$\n",
    "\n",
    "\n",
    "We will always order registers as $(c, a, \\text{system})$. In code, that’s why you see kron(thing_on_c, thing_on_as).\n",
    "\n",
    "\n",
    "### Controlled selection: acts on $c$ ⊗  ($a$ $\\otimes$ system):\n",
    "$$\n",
    "U_{\\text{controlled}} \\;=\\; P_0 \\otimes U_{\\cos} \\;+\\; P_1 \\otimes U_{\\sin}.\n",
    "$$\n",
    "This means: if $c=0$ then apply $U_{\\cos}$, if $c=1$ then apply $U_{\\sin}$\n",
    "\n",
    "### Interference to produce the linear combination:\n",
    "\n",
    "Starting with control $|0\\rangle_c$, apply\n",
    "$$\n",
    "U_{\\text{total}} \\;=\\; (H_c \\otimes I_{2n})\\;\\big( S_c^\\dagger \\otimes I_{2n} \\big)\\;U_{\\text{controlled}}\\;\\big(H_c \\otimes I_{2n}\\big).\n",
    "$$\n",
    "\n",
    "if you post-select or project the control onto $|0\\rangle_c$, the effective operator acting on $(a\\otimes \\text{system})$ is exactly\n",
    "$$\n",
    "B \\;=\\; \\langle 0|_c\\,U_{\\text{total}}\\,|0\\rangle_c\n",
    "\\;=\\; \\tfrac12\\Big(U_{\\cos} \\;-\\; i\\,U_{\\sin}\\Big).\n",
    "$$\n",
    "\n",
    "### Extract the system action:\n",
    "\n",
    "Now project ancilla $a$ onto $|0\\rangle$ by taking the **top-left $n\\times n$** block:\n",
    "$$\n",
    "B_{00}\\;=\\;\\langle 0|_a\\, B \\,|0\\rangle_a\n",
    "\\;\\approx\\; \\tfrac12\\!\\left(\\tfrac12\\cos(T H_s) \\;-\\; i\\,\\tfrac12\\sin(T H_s)\\right)\n",
    "\\;=\\; \\tfrac14\\,e^{-i T H_s}\n",
    "\\;=\\; \\tfrac14\\,e^{-i \\tau H}.\n",
    "$$\n",
    "\n",
    "Because our cosine/sine targets were scaled by $1/2$, and the LCU adds another $1/2$, we multiply by 4 at the end to recover the full propagator:\n",
    "$$\n",
    "U_{\\text{from QSP}} \\;=\\; 4\\, B_{00}\\ \\approx\\ e^{-i\\tau H}.\n",
    "$$\n",
    "\n"
   ]
  },
  {
   "cell_type": "code",
   "execution_count": 11,
   "id": "a9f0a13a",
   "metadata": {},
   "outputs": [
    {
     "name": "stdout",
     "output_type": "stream",
     "text": [
      "LCU + QSP vs expm: 2.173e+00, fidelity: 1.149460\n"
     ]
    }
   ],
   "source": [
    "# ---------- LCU combine with a second ancilla c ----------\n",
    "Hc = (1/np.sqrt(2))*np.array([[1,1],[1,-1]], dtype=complex)  # Hadamard on control c\n",
    "Sd = np.diag([1, -1j])                                       # S^\\dagger on control c\n",
    "P0 = np.array([[1,0],[0,0]], dtype=complex)                  # |0><0| on control c\n",
    "P1 = np.array([[0,0],[0,1]], dtype=complex)                  # |1><1| on control c\n",
    "\n",
    "U_controlled = kron(P0, Ucos) + kron(P1, Usin) # c-controlled on c\n",
    "U_total = kron(Hc, np.eye(2*n)) @ (kron(Sd, np.eye(2*n)) @ U_controlled) @ kron(Hc, np.eye(2*n)) # (4n x 4n)\n",
    "\n",
    "# Project c→|0>, then a→|0> (top-left blocks)\n",
    "B   = U_total[:2*n, :2*n]   # <c=0|U_total|c=0>\n",
    "B00 = B[:n, :n]             # <a=0|   B   |a=0>\n",
    "\n",
    "# Undo the (1/2)*(1/2) scaling: B00 ≈ e^{-i τ H}/4\n",
    "U_from_QSP = 4 * B00\n",
    "U_exact    = expm(-1j * tau * H)\n",
    "\n",
    "relFro  = norm(U_from_QSP - U_exact, 'fro') / max(norm(U_exact, 'fro'), 1e-16)\n",
    "fidelity = np.abs(np.trace(U_from_QSP.conj().T @ U_exact)) / n\n",
    "print(f\"LCU + QSP vs expm: {relFro:.3e}, fidelity: {fidelity:.6f}\")"
   ]
  }
 ],
 "metadata": {
  "kernelspec": {
   "display_name": "Python 3",
   "language": "python",
   "name": "python3"
  },
  "language_info": {
   "codemirror_mode": {
    "name": "ipython",
    "version": 3
   },
   "file_extension": ".py",
   "mimetype": "text/x-python",
   "name": "python",
   "nbconvert_exporter": "python",
   "pygments_lexer": "ipython3",
   "version": "3.9.10"
  }
 },
 "nbformat": 4,
 "nbformat_minor": 5
}
