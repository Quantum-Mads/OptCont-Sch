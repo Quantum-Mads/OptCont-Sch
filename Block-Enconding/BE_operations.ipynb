{
 "cells": [
  {
   "cell_type": "markdown",
   "id": "9d4e4650",
   "metadata": {},
   "source": [
    "# Operations with BE:\n",
    "- Product\n",
    "- Sum\n",
    "- Inverse"
   ]
  },
  {
   "cell_type": "code",
   "execution_count": null,
   "id": "4de6202c",
   "metadata": {},
   "outputs": [],
   "source": [
    "# https://arxiv.org/pdf/2509.15779"
   ]
  }
 ],
 "metadata": {
  "kernelspec": {
   "display_name": "Python 3",
   "language": "python",
   "name": "python3"
  },
  "language_info": {
   "name": "python",
   "version": "3.9.10"
  }
 },
 "nbformat": 4,
 "nbformat_minor": 5
}
