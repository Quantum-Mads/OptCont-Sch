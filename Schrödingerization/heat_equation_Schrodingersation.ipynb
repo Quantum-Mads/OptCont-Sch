{
 "cells": [
  {
   "cell_type": "code",
   "execution_count": null,
   "id": "ecacd6a17b0b427e",
   "metadata": {},
   "outputs": [
    {
     "data": {
      "text/plain": [
       "\"\\nThis file shows how Schrodingersation method works for heat equation.\\nWe would like to solve the following problem:\\n\\n∂u/∂t = a ∂^2u/∂x^2      (t,x) ∈ [0, T] × [left_x, right_x]\\nu(0,x) = sin(2πx / (right_x - left_x))\\n\\ncoefficient a is chosen as:\\na = (right_x - left_x) / (2π)^2\\n\\nThis heat equation's analytic solution is:\\nu(t,x) = exp(-t/(right_x - left_x)) × sin(2πx / (right_x - left_x))\\n\""
      ]
     },
     "execution_count": 4,
     "metadata": {},
     "output_type": "execute_result"
    }
   ],
   "source": [
    "\"\"\"\n",
    "This file shows how Schrodingersation method works for heat equation.\n",
    "We would like to solve the following problem:\n",
    "\n",
    "∂u/∂t = a ∂^2u/∂x^2      (t,x) ∈ [0, T] , [left_x, right_x]\n",
    "u(0,x) = sin(2πx / (right_x - left_x))\n",
    "\n",
    "coefficient a is chosen as:\n",
    "a = (right_x - left_x) / (2π)^2\n",
    "\n",
    "This heat equation's analytic solution is:\n",
    "u(t,x) = exp(-t/(right_x - left_x)) · sin(2πx / (right_x - left_x))\n",
    "\"\"\""
   ]
  },
  {
   "cell_type": "code",
   "execution_count": 5,
   "id": "94946420969dc8be",
   "metadata": {
    "ExecuteTime": {
     "end_time": "2025-09-09T15:44:30.013435Z",
     "start_time": "2025-09-09T15:44:30.009576Z"
    }
   },
   "outputs": [],
   "source": [
    "import numpy as np\n",
    "n_x = 5    # Number of qubits for spatial variable x\n",
    "n_p = 9    # Number of qubits for Schrodingersation variable p\n",
    "N_p = 2 ** n_p\n",
    "left_x = 0\n",
    "right_x = 15\n",
    "R = 10    # The computational domain for Schrodingersation variable p is p ∈ [-2πR, 2πR]\n",
    "t = 5     # Evolution time\n",
    "a = (right_x - left_x) / (2*np.pi)**2"
   ]
  },
  {
   "cell_type": "code",
   "execution_count": 6,
   "id": "50c887bd998aa45f",
   "metadata": {
    "ExecuteTime": {
     "end_time": "2025-09-09T15:44:30.415216Z",
     "start_time": "2025-09-09T15:44:30.411981Z"
    }
   },
   "outputs": [],
   "source": [
    "def generate_compact_p_2_normal(n, a, b):\n",
    "    # This function create the finite difference matrix for the second order derivative with periodic boundary condition\n",
    "    # The size of the matrix is 2^n x 2^n\n",
    "    size = 2 ** n\n",
    "    # Create a zero matrix of the specified size with a complex data type\n",
    "    matrix = np.zeros((size, size), dtype=np.complex128)\n",
    "    # Set the off-diagonal elements\n",
    "    np.fill_diagonal(matrix[1:], 1)\n",
    "    np.fill_diagonal(matrix[:, 1:], 1)\n",
    "    # Set the diagonal elements\n",
    "    np.fill_diagonal(matrix, -2)\n",
    "    # Set the corner elements to complete the specified structure\n",
    "    matrix[0, -1] = 1\n",
    "    matrix[-1, 0] = 1\n",
    "\n",
    "    delta_z = (b - a) / 2 ** n  # grid size\n",
    "    matrix = matrix / delta_z**2\n",
    "    return matrix"
   ]
  },
  {
   "cell_type": "code",
   "execution_count": 9,
   "id": "67ae73b0d80a27f1",
   "metadata": {
    "ExecuteTime": {
     "end_time": "2025-09-09T15:44:30.853917Z",
     "start_time": "2025-09-09T15:44:30.847680Z"
    }
   },
   "outputs": [],
   "source": [
    "# Create Hamiltonian for the obtained Schrodinger equation\n",
    "\n",
    "from scipy import sparse as sp\n",
    "eta = np.arange(N_p)     # [0, 1, 2, ..., N_p-1]\n",
    "eta[N_p // 2 : ] -= N_p  # Shift to [0, 1, 2, ..., N_p/2 -1, -N_p/2, -N_p/2 +1, ..., -1] (For indices from the halfway point to the end, subtract N_p)\n",
    "                         # for example, if N_p = 8, eta becomes [0, 1, 2, 3, -4, -3, -2, -1]\n",
    "eta = eta / R            # Scale to [-2πR, 2πR]\n",
    "                         # for example, if R = 10, eta becomes [0, 0.1, 0.2, 0.3, -0.4, -0.3, -0.2, -0.1]\n",
    "eta = sp.diags(eta)      # Create a diagonal sparse matrix from the eta array\n",
    "\n",
    "\n",
    "p_2 = sp.csr_matrix(generate_compact_p_2_normal(n_x, left_x, right_x)) # Finite difference matrix for the second order derivative with periodic boundary condition\n",
    "                                                                       # csr_matrix is a compressed sparse row matrix, which is more efficient for arithmetic operations and matrix-vector products\n",
    "                                                                       # The size of p_2 is 2^n_x x 2^n\n",
    "matrix = sp.csr_matrix(sp.kron(p_2, eta))"
   ]
  },
  {
   "cell_type": "code",
   "execution_count": 16,
   "id": "2d42fe80db23279d",
   "metadata": {
    "ExecuteTime": {
     "end_time": "2025-09-09T15:44:32.849276Z",
     "start_time": "2025-09-09T15:44:32.845052Z"
    }
   },
   "outputs": [],
   "source": [
    "# create initial state\n",
    "p_state = np.exp(- np.abs(np.arange(-R * np.pi, R * np.pi, step = 2 * R * np.pi / N_p)))\n",
    "eta_state = np.fft.ifft(p_state)\n",
    "\n",
    "u_state = np.linspace(left_x, right_x, 2**n_x + 1)\n",
    "u_state = (np.sin(2 * np.pi * u_state[:-1] / (right_x - left_x)))\n",
    "\n",
    "initial_state = np.kron(u_state, eta_state)"
   ]
  },
  {
   "cell_type": "code",
   "execution_count": 21,
   "id": "ca574dd0087a3364",
   "metadata": {
    "ExecuteTime": {
     "end_time": "2025-09-09T15:44:33.561689Z",
     "start_time": "2025-09-09T15:44:33.229735Z"
    }
   },
   "outputs": [],
   "source": [
    "from scipy.sparse.linalg import expm_multiply\n",
    "finial_state = expm_multiply(1j * matrix * t * a, initial_state)\n"
   ]
  },
  {
   "cell_type": "code",
   "execution_count": 22,
   "id": "56525526bf9eec6b",
   "metadata": {
    "ExecuteTime": {
     "end_time": "2025-09-09T15:44:33.978505Z",
     "start_time": "2025-09-09T15:44:33.975435Z"
    }
   },
   "outputs": [],
   "source": [
    "finial_state2 = finial_state.reshape((2**n_x, 2**n_p))\n",
    "finial_state3 = np.fft.fft(finial_state2, axis=1)"
   ]
  },
  {
   "cell_type": "code",
   "execution_count": null,
   "id": "57afd6c948ae071a",
   "metadata": {
    "ExecuteTime": {
     "end_time": "2025-09-09T15:44:34.488849Z",
     "start_time": "2025-09-09T15:44:34.409591Z"
    }
   },
   "outputs": [
    {
     "data": {
      "image/png": "[encoded data removed]",
      "text/plain": [
       "<Figure size 640x480 with 1 Axes>"
      ]
     },
     "metadata": {},
     "output_type": "display_data"
    }
   ],
   "source": [
    "import numpy as np\n",
    "import matplotlib.pyplot as plt\n",
    "x = np.linspace(left_x, right_x, 2**n_x + 1) \n",
    "x = x[:-1]\n",
    "\n",
    "\n",
    "k = N_p // 2 + 1   # Select which p_j to recover solution\n",
    "y = finial_state3[:, k] / p_state[k ] # numerical\n",
    "y2 = np.exp(-t/(right_x - left_x)) * np.sin(2 * np.pi * x / (right_x - left_x)) # analytic \n",
    "\n",
    "\n",
    "# 在同一张图上绘制 y 和 y2\n",
    "plt.plot(x, y.real, label='Numerical', color='b')  # 绘制 y\n",
    "plt.plot(x, y2.real, label='Analytic', color='r')  # 绘制 y2\n",
    "# plt.plot(x, y3.real, label='Analytic2', color='g')  # 绘制 y2\n",
    "\n",
    "# 设置标签和标题\n",
    "plt.xlabel('x')\n",
    "plt.ylabel('y')\n",
    "plt.title('Result Comparison')\n",
    "\n",
    "# 显示图例\n",
    "plt.legend()\n",
    "\n",
    "# 显示网格\n",
    "plt.grid(True)\n",
    "\n",
    "# 显示图像\n",
    "plt.show()"
   ]
  },
  {
   "cell_type": "code",
   "execution_count": null,
   "id": "e77396395f889896",
   "metadata": {},
   "outputs": [],
   "source": []
  },
  {
   "cell_type": "code",
   "execution_count": null,
   "id": "28ef42b7442ba5e",
   "metadata": {},
   "outputs": [],
   "source": []
  }
 ],
 "metadata": {
  "kernelspec": {
   "display_name": "Python 3",
   "language": "python",
   "name": "python3"
  },
  "language_info": {
   "codemirror_mode": {
    "name": "ipython",
    "version": 3
   },
   "file_extension": ".py",
   "mimetype": "text/x-python",
   "name": "python",
   "nbconvert_exporter": "python",
   "pygments_lexer": "ipython3",
   "version": "3.11.9"
  }
 },
 "nbformat": 4,
 "nbformat_minor": 5
}
